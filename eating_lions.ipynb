{
 "cells": [
  {
   "cell_type": "markdown",
   "metadata": {},
   "source": [
    "# Eating lions\n",
    "\n",
    "Brainteaser with recursive solution. ``n`` lions in a cage dispute about a piece of meat. If a lion eats it, gets sleepy and becomes meat for the other lions. Lions are logical, so they prefer to survive rather than dying for being eaten.\n",
    "\n",
    "The solution is recursive. One lion eats, two lions don't because if one eats, the game is reduced to one lion, and the one who ate dies. In case of three lions, one eats, because he knows that the others will be left in two with him sleeping, and two don't eat, and so on .. \n",
    "\n",
    "Basically the solution consists in checking what happens for ``n-1``, and doing the opposite."
   ]
  },
  {
   "cell_type": "code",
   "execution_count": 1,
   "metadata": {},
   "outputs": [],
   "source": [
    "def check(n):\n",
    "    if n == 1:\n",
    "        return True\n",
    "    else:\n",
    "        return not check(n-1)"
   ]
  },
  {
   "cell_type": "code",
   "execution_count": 2,
   "metadata": {},
   "outputs": [
    {
     "data": {
      "text/plain": [
       "True"
      ]
     },
     "execution_count": 2,
     "metadata": {},
     "output_type": "execute_result"
    }
   ],
   "source": [
    "check(5)"
   ]
  }
 ],
 "metadata": {
  "kernelspec": {
   "display_name": "Python 3",
   "language": "python",
   "name": "python3"
  },
  "language_info": {
   "codemirror_mode": {
    "name": "ipython",
    "version": 3
   },
   "file_extension": ".py",
   "mimetype": "text/x-python",
   "name": "python",
   "nbconvert_exporter": "python",
   "pygments_lexer": "ipython3",
   "version": "3.7.4"
  }
 },
 "nbformat": 4,
 "nbformat_minor": 2
}
