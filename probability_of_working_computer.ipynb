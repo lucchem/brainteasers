{
 "cells": [
  {
   "cell_type": "code",
   "execution_count": 32,
   "metadata": {},
   "outputs": [],
   "source": [
    "import numpy\n",
    "from scipy.optimize import fsolve\n",
    "import time\n",
    "import sys"
   ]
  },
  {
   "cell_type": "markdown",
   "metadata": {},
   "source": [
    "# Interview question\n",
    "\n",
    "I was asked this problem during an interview. It is not really a brainteaser, it is more probability+optimisation.\n",
    "\n",
    "A computer needs three components to work, but when I buy them, they have a probability $p_i$ to be delivered broken. I can buy no more than $N$ components overall. How do I distribute the three components in the overall set of $N$ purchases to maximise the probability to have a working computer?\n",
    "\n",
    "Take $p_i$ to be the probability of a $i$-th component to be broken, $i=1,2,3$. I buy $n_i$ $i$-th components, so $N=n_1+n_2+n_3$.\n",
    "\n",
    "The chance $P$ of having a working computer is:\n",
    "$$P:=(1-p_1^{n_1})(1-p_2^{n_2})(1-p_3^{n_3})$$\n",
    "\n",
    "Define the Lagrangian:\n",
    "$$L(n_1,n_2,n_3,\\lambda):=(1-p_1^{n_1})(1-p_2^{n_2})(1-p_3^{n_3})+\\lambda(n_1+n_2+n_3-N)$$\n",
    "so:\n",
    "$$\\frac{\\partial L}{\\partial \\lambda}=0\\Rightarrow N=n_1+n_2+n_3$$\n",
    "$$\\frac{\\partial L}{\\partial n_1}=0\\Rightarrow (-n_1p_1^{n_1-1})(1-p_2^{n_2})(1-p_3^{n_3})+\\lambda=0$$\n",
    "and so on for $n_2$, $n_3$.\n",
    "Multiply times $(1-p_1^{n_1})$ to both sides, find $P$, and simplify.\n",
    "I get:\n",
    "$$(-n_1p_1^{n_1-1})(1-p_2^{n_2})(1-p_3^{n_3})+\\lambda=0\\Rightarrow \\frac{n_1p_1^{n_1-1}}{p_1^{n_1}-1}=-\\frac \\lambda P.$$\n",
    "\n",
    "Note that $\\lambda>0$, and so $K:=-\\lambda/P<0$.\n",
    "One can solve the problem this way:\n",
    "\n",
    "0. set $K_0=0$. $K_j=K_{j-1}-\\Delta$ for some $\\Delta>0$ defining the accuracy of the method.\n",
    "1. Solve the three equations ($i=1,2,3$) for $K_j$\n",
    "$$\\frac{n_ip_i^{n_i-1}}{p_i^{n_i}-1}=K_j,$$\n",
    "and find if $\\sum_i n_i < N$.\n",
    "2. Find the combination of $\\{n_i\\}$ maximising the summation."
   ]
  },
  {
   "cell_type": "code",
   "execution_count": 3,
   "metadata": {},
   "outputs": [],
   "source": [
    "def RHS(p,n):\n",
    "    return n*p**(n-1)/(p**n-1)"
   ]
  },
  {
   "cell_type": "code",
   "execution_count": 41,
   "metadata": {},
   "outputs": [
    {
     "name": "stdout",
     "output_type": "stream",
     "text": [
      "2.0 6.0 11.0 19.0 4.999000e-02 - n1+n2+n3 =  20.6994\n",
      "--- 1.9250140190124512 seconds ---\n"
     ]
    }
   ],
   "source": [
    "p1 = 0.1; p2 = 0.4; p3 = 0.6;\n",
    "N = 20;\n",
    "\n",
    "l = 0\n",
    "v = 0\n",
    "init_1 = 1\n",
    "init_2 = 1\n",
    "init_3 = 1\n",
    "\n",
    "dl = 1e-5\n",
    "\n",
    "start_time = time.time()\n",
    "while (True):\n",
    "    v += 1\n",
    "    func1 = lambda n : RHS(p1,n) + l\n",
    "    func2 = lambda n : RHS(p2,n) + l\n",
    "    func3 = lambda n : RHS(p3,n) + l\n",
    "    n1_solution = fsolve(func1, init_1)\n",
    "    n2_solution = fsolve(func2, init_2)\n",
    "    n3_solution = fsolve(func3, init_3)\n",
    "    if (v % 1000 == 0):\n",
    "        print(\"{2:7d}: lambda = {0:12.6e} - n1+n2+n3 = {1:8.4f}\".format(l,n1_solution[0]+n2_solution[0]+n3_solution[0],v), end=\"\\r\")\n",
    "        sys.stdout.flush()\n",
    "    if ((n1_solution[0]+n2_solution[0]+n3_solution[0]) // 1 + 1 <= N):\n",
    "        break\n",
    "    l += dl\n",
    "    if (2*n1_solution < N):\n",
    "        init_1 = n1_solution\n",
    "        init_2 = n2_solution\n",
    "        init_3 = n3_solution\n",
    "        \n",
    "print(n1_solution[0] // 1, n2_solution[0] // 1, n3_solution[0] // 1, (n1_solution[0]+n2_solution[0]+n3_solution[0]) // 1)\n",
    "print(\"--- %s seconds ---\" % (time.time() - start_time))"
   ]
  },
  {
   "cell_type": "code",
   "execution_count": null,
   "metadata": {},
   "outputs": [],
   "source": []
  }
 ],
 "metadata": {
  "kernelspec": {
   "display_name": "Python 3",
   "language": "python",
   "name": "python3"
  },
  "language_info": {
   "codemirror_mode": {
    "name": "ipython",
    "version": 3
   },
   "file_extension": ".py",
   "mimetype": "text/x-python",
   "name": "python",
   "nbconvert_exporter": "python",
   "pygments_lexer": "ipython3",
   "version": "3.7.4"
  }
 },
 "nbformat": 4,
 "nbformat_minor": 2
}
