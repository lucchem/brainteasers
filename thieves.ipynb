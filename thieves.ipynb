{
 "cells": [
  {
   "cell_type": "code",
   "execution_count": 1,
   "metadata": {},
   "outputs": [],
   "source": [
    "import numpy as np"
   ]
  },
  {
   "cell_type": "markdown",
   "metadata": {},
   "source": [
    "# Thieves\n",
    "\n",
    "Asked during a quant research preliminary test.\n",
    "\n",
    "_5 thieves hide a booty of gold bricks. The first thief comes back, divides it in five piles plus one brick left alone, and takes one pile. All the other four do the same. The day after they come back, find the remaining bricks, repeat the procedure, each of them takes a pile, and the left brick is used to cover expenses. What is the minimum starting number of bricks?_\n",
    "\n",
    "The morning they find $k_6=5n_6+1$ bricks, and each of them takes $n_6$. The fifth thief found $k_5$ bricks, took $n_5:=(k_5-1)/5$ and left $4(k_5-1)/5+1$ bricks, so that $4(k_5-1)/5=k_6=5n_6+1$. The fourth thief found $k_4$ bricks, took $n_4:=(k_4-1)/5$ and left $4(k_4-1)/5+1$ bricks, and $4(k_4-1)/5+1=k_5$, and so on.\n",
    "\n",
    "One sees the following recursion:\n",
    "$$5\\frac{k_{i+1}-1}4+1=k_i\\qquad k_6=5 n_6 +1.$$"
   ]
  },
  {
   "cell_type": "code",
   "execution_count": 38,
   "metadata": {},
   "outputs": [],
   "source": [
    "def booty(thief,n):\n",
    "    k_i = 0\n",
    "    for i in range(6,thief-1,-1):\n",
    "        if i == 6:\n",
    "            n_i = n\n",
    "            k_i = int(5*n_i + 1)\n",
    "        else:\n",
    "            k_ip1 = k_i\n",
    "            if 5*(k_ip1-1) % 4 != 0:\n",
    "                return\n",
    "            else:\n",
    "                k_i = 5*(k_ip1-1)//4+1\n",
    "            n_i = (k_i - 1)//5\n",
    "    return k_i"
   ]
  },
  {
   "cell_type": "code",
   "execution_count": 39,
   "metadata": {},
   "outputs": [
    {
     "name": "stdout",
     "output_type": "stream",
     "text": [
      "1024 VALID  15626\n"
     ]
    }
   ],
   "source": [
    "for n in range(1,100000):\n",
    "    #print('{:8d}: '.format(n),end='')\n",
    "    res = booty(1,n)\n",
    "    if res != None:\n",
    "        print(n,'VALID ',res)\n",
    "        break"
   ]
  }
 ],
 "metadata": {
  "kernelspec": {
   "display_name": "Python 3",
   "language": "python",
   "name": "python3"
  },
  "language_info": {
   "codemirror_mode": {
    "name": "ipython",
    "version": 3
   },
   "file_extension": ".py",
   "mimetype": "text/x-python",
   "name": "python",
   "nbconvert_exporter": "python",
   "pygments_lexer": "ipython3",
   "version": "3.7.4"
  }
 },
 "nbformat": 4,
 "nbformat_minor": 4
}
