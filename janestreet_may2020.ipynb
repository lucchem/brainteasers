{
 "cells": [
  {
   "cell_type": "code",
   "execution_count": 1,
   "metadata": {},
   "outputs": [],
   "source": [
    "import numpy as np"
   ]
  },
  {
   "cell_type": "markdown",
   "metadata": {},
   "source": [
    "# Jane Street puzzle May 2020 : Expelled\n",
    "\n",
    "<img src=\"expelled_.jpg\">\n",
    "\n",
    "This is the solution I found by looking at the table. A bit convolved."
   ]
  },
  {
   "cell_type": "code",
   "execution_count": 1,
   "metadata": {},
   "outputs": [
    {
     "name": "stdout",
     "output_type": "stream",
     "text": [
      "trovato  1  al turno  1\n",
      "trovato  3  al turno  2\n",
      "trovato  5  al turno  3\n",
      "trovato  7  al turno  4\n",
      "found  4  at turn  5\n",
      "found  10  at turn  7\n",
      "found  6  at turn  9\n",
      "found  8  at turn  17\n",
      "found  9  at turn  20\n",
      "found  2  at turn  75\n",
      "found  11  at turn  416\n"
     ]
    }
   ],
   "source": [
    "lista = list(range(1,2500))\n",
    "\n",
    "# step 0-3\n",
    "for N in range(0,4):\n",
    "    if (lista[N] < 12):\n",
    "        print(\"trovato \",lista[N],\" al turno \",N+1)\n",
    "    del lista[N]\n",
    "\n",
    "    if (N>0):\n",
    "        appo = lista[N-1]\n",
    "        del lista[N-1]\n",
    "        lista.insert(0,appo)\n",
    "        appo = lista[N]\n",
    "        del lista[N]\n",
    "        lista.insert(1,appo)\n",
    "    if (N==3):\n",
    "        appo = lista[N]\n",
    "        del lista[N]\n",
    "        lista.insert(2,appo)\n",
    "        appo = lista[N+1]\n",
    "        del lista[N+1]\n",
    "        lista.insert(3,appo)\n",
    "\n",
    "for N in range(4,1000):\n",
    "    if (lista[N] < 12):\n",
    "        print(\"found \",lista[N],\" at turn \",N+1)\n",
    "        if (lista[N] == 11):\n",
    "            break\n",
    "    del lista[N]\n",
    "    pos = 0\n",
    "    for i in range(-1,N-3):\n",
    "        appo = lista[N+i]\n",
    "        del lista[N+i]\n",
    "        lista.insert(pos,appo)\n",
    "        pos = pos + 1\n",
    "        appo = lista[N+i+1]\n",
    "        del lista[N+i+1]\n",
    "        lista.insert(pos,appo)\n",
    "        pos = pos + 1\n",
    "    appo = lista[N+N-4]\n",
    "    del lista[N+N-4]\n",
    "    lista.insert(N+(N-4)+2,appo)"
   ]
  }
 ],
 "metadata": {
  "kernelspec": {
   "display_name": "Python 3",
   "language": "python",
   "name": "python3"
  },
  "language_info": {
   "codemirror_mode": {
    "name": "ipython",
    "version": 3
   },
   "file_extension": ".py",
   "mimetype": "text/x-python",
   "name": "python",
   "nbconvert_exporter": "python",
   "pygments_lexer": "ipython3",
   "version": "3.7.4"
  }
 },
 "nbformat": 4,
 "nbformat_minor": 2
}
