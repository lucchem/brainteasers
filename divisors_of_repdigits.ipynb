{
 "cells": [
  {
   "cell_type": "markdown",
   "metadata": {},
   "source": [
    "# Divisors of repdigits\n",
    "\n",
    "A repdigit is a number made by only one digit, like 111 or 55 or 9999999. How many numbers between 1 and 123456 are divisors of a repdigit?\n",
    "\n",
    "The idea is that all integers that are not divisible by 2 or 5 are divisors of a repunit, that is a repdigit of ones (11, 111, 11111111, ecc..).\n",
    "So one can find all such numbers in the given set, and see.\n",
    "\n",
    "These numbers, if multiplied by 2, may divide all the repdigits of even digits, while if multiplied by 5 will divide 55, 55555, 555555555, and so on..\n",
    "\n",
    "So, first of all find all the divisors of repunits:"
   ]
  },
  {
   "cell_type": "code",
   "execution_count": 1,
   "metadata": {},
   "outputs": [],
   "source": [
    "nums = [ i for i in range(1,123457) if i % 2 != 0 and i % 5 != 0 ]"
   ]
  },
  {
   "cell_type": "markdown",
   "metadata": {},
   "source": [
    "Then generate all the possible multiples, and take the uniques (by generating a set), and just count them."
   ]
  },
  {
   "cell_type": "code",
   "execution_count": 2,
   "metadata": {},
   "outputs": [
    {
     "name": "stdout",
     "output_type": "stream",
     "text": [
      "102469\n"
     ]
    }
   ],
   "source": [
    "tot_nums = set([i*j for i in nums for j in range(1,10) if i*j <= 123456])\n",
    "print(len(tot_nums))"
   ]
  }
 ],
 "metadata": {
  "kernelspec": {
   "display_name": "Python 3",
   "language": "python",
   "name": "python3"
  },
  "language_info": {
   "codemirror_mode": {
    "name": "ipython",
    "version": 3
   },
   "file_extension": ".py",
   "mimetype": "text/x-python",
   "name": "python",
   "nbconvert_exporter": "python",
   "pygments_lexer": "ipython3",
   "version": "3.7.4"
  }
 },
 "nbformat": 4,
 "nbformat_minor": 4
}
