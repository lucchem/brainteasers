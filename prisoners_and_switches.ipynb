{
 "cells": [
  {
   "cell_type": "code",
   "execution_count": 2,
   "metadata": {},
   "outputs": [],
   "source": [
    "import numpy as np\n",
    "from tqdm.notebook import tnrange"
   ]
  },
  {
   "cell_type": "markdown",
   "metadata": {},
   "source": [
    "# Prisoners and light switches\n",
    "\n",
    "Famous brainteaser. There is a room with ``s`` switches, and ``n`` prisoners. Guards select a prisoner at random and let him enter the room. Prisoners are free when they can establish that everyone visited the room. Prisoners can be called multiple times. How to do?\n",
    "\n",
    "The solution, by some interview prep book, consists in selecting a \"captain\" prisoner, that when entering the room checks the switches. If one or more are on, means that among the prisoners visiting the room between the two last captain visits, one never entered it before and turned a switch on. The captain then switches them all off. Whoever visited the room before and is called again should never touch the switches again. The captain counts how many switches he saw on (or, the number of \"first visits\"), and when it is equal to $n-1$ announces that everyone visited the room, freeing them.\n",
    "\n",
    "We play the part of the guards. We play ``n_part`` times the game, with ``n=21`` prisoners and ``s`` switches. The last prisoner is the captain."
   ]
  },
  {
   "cell_type": "code",
   "execution_count": 6,
   "metadata": {},
   "outputs": [
    {
     "data": {
      "application/vnd.jupyter.widget-view+json": {
       "model_id": "bb74ddb3404f46cba793aae0cfb1ff37",
       "version_major": 2,
       "version_minor": 0
      },
      "text/plain": [
       "HBox(children=(HTML(value='games'), FloatProgress(value=0.0, max=5000.0), HTML(value='')))"
      ]
     },
     "metadata": {},
     "output_type": "display_data"
    },
    {
     "name": "stdout",
     "output_type": "stream",
     "text": [
      "\n",
      "206.0478 0.8263642287754965\n"
     ]
    }
   ],
   "source": [
    "n = 21\n",
    "s = 3\n",
    "n_part = 5000\n",
    "\n",
    "avg_turns = 0\n",
    "sqm_turns = 0\n",
    "\n",
    "np.random.seed(10101)\n",
    "\n",
    "for i in tnrange(n_part,desc='games'):\n",
    "    switches = [ False for j in range(s) ]\n",
    "    visited  = [ False for j in range(n-1) ]\n",
    "\n",
    "    turn   = 0\n",
    "    first_visits = 0\n",
    "\n",
    "    finished = False\n",
    "    while not finished:\n",
    "        turn += 1\n",
    "        prisoner = np.random.randint(0,n)\n",
    "        if prisoner == n-1:\n",
    "            first_visits += sum(switches)\n",
    "            switches = [ False for i in range(s) ]\n",
    "            if first_visits == n-1:\n",
    "                finished = True\n",
    "        else:\n",
    "            if not visited[prisoner]:\n",
    "                if False in switches:\n",
    "                    switch = switches.index(False)\n",
    "                    switches[switch] = True\n",
    "                    visited[prisoner] = True\n",
    "                else:\n",
    "                    continue\n",
    "    avg_turns += turn\n",
    "    sqm_turns += turn**2\n",
    "avg_turns /= n_part\n",
    "sqm_turns -= n_part*avg_turns**2\n",
    "sqm_turns /= (n_part-1)\n",
    "sqm_turns = np.sqrt(sqm_turns)\n",
    "\n",
    "print(avg_turns,sqm_turns/np.sqrt(n_part))"
   ]
  }
 ],
 "metadata": {
  "kernelspec": {
   "display_name": "Python 3",
   "language": "python",
   "name": "python3"
  },
  "language_info": {
   "codemirror_mode": {
    "name": "ipython",
    "version": 3
   },
   "file_extension": ".py",
   "mimetype": "text/x-python",
   "name": "python",
   "nbconvert_exporter": "python",
   "pygments_lexer": "ipython3",
   "version": "3.7.4"
  }
 },
 "nbformat": 4,
 "nbformat_minor": 2
}
